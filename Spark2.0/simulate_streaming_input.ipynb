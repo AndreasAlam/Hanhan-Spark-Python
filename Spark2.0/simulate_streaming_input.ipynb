{
 "cells": [
  {
   "cell_type": "markdown",
   "metadata": {},
   "source": [
    "# Spark Streaming - Process Input"
   ]
  },
  {
   "cell_type": "code",
   "execution_count": 2,
   "metadata": {},
   "outputs": [],
   "source": [
    "from pyspark import SparkContext\n",
    "from pyspark.sql.session import SparkSession\n",
    "from pyspark.streaming import StreamingContext\n",
    "import pyspark.sql.types as tp"
   ]
  },
  {
   "cell_type": "markdown",
   "metadata": {},
   "source": [
    "## Manually Input From Netcat\n",
    "\n",
    "The method here will read any input typed in the terminal that has Netcat on using `nc -lk 9879`"
   ]
  },
  {
   "cell_type": "code",
   "execution_count": 2,
   "metadata": {},
   "outputs": [],
   "source": [
    "sc = SparkContext(\"local[2]\", \"Spark Streaming Input\")\n",
    "ssc = StreamingContext(sc, 1)"
   ]
  },
  {
   "cell_type": "code",
   "execution_count": 3,
   "metadata": {},
   "outputs": [],
   "source": [
    "lines = ssc.socketTextStream(\"localhost\", 9879)"
   ]
  },
  {
   "cell_type": "code",
   "execution_count": null,
   "metadata": {},
   "outputs": [],
   "source": [
    "words = lines.flatMap(lambda line: line.split(\" \"))\n",
    "\n",
    "pairs = words.map(lambda word: (word, 1))\n",
    "wordCounts = pairs.reduceByKey(lambda x, y: x + y)\n",
    "\n",
    "wordCounts.pprint()"
   ]
  },
  {
   "cell_type": "code",
   "execution_count": null,
   "metadata": {},
   "outputs": [],
   "source": [
    "ssc.start()             # Start the computation\n",
    "ssc.awaitTermination()"
   ]
  },
  {
   "cell_type": "markdown",
   "metadata": {},
   "source": [
    "## Read File as Streaming"
   ]
  },
  {
   "cell_type": "code",
   "execution_count": 33,
   "metadata": {},
   "outputs": [],
   "source": [
    "sc = SparkContext(\"local[2]\", \"Spark Streaming Input\")\n",
    "ssc = StreamingContext(sc, 1)\n",
    "spark = SparkSession(sc)"
   ]
  },
  {
   "cell_type": "code",
   "execution_count": 34,
   "metadata": {},
   "outputs": [
    {
     "name": "stdout",
     "output_type": "stream",
     "text": [
      "+---+-----+--------------------+\n",
      "| id|label|               tweet|\n",
      "+---+-----+--------------------+\n",
      "|  1|    0| @user when a fat...|\n",
      "|  2|    0|@user @user thank...|\n",
      "|  3|    0|  bihday your maj...|\n",
      "|  4|    0|#model   i love u...|\n",
      "|  5|    0| factsguide: soci...|\n",
      "+---+-----+--------------------+\n",
      "\n",
      "root\n",
      " |-- id: string (nullable = true)\n",
      " |-- label: string (nullable = true)\n",
      " |-- tweet: string (nullable = true)\n",
      "\n"
     ]
    }
   ],
   "source": [
    "df = spark.read.csv('sample.csv', header=True)\n",
    "\n",
    "df.show()\n",
    "df.printSchema()"
   ]
  },
  {
   "cell_type": "code",
   "execution_count": 35,
   "metadata": {},
   "outputs": [
    {
     "name": "stdout",
     "output_type": "stream",
     "text": [
      "-------------------------------------------\n",
      "Time: 2019-12-22 00:10:00\n",
      "-------------------------------------------\n",
      "Label: 0, Tweet:  @user when a father is dysfunctional and is so selfish he drags his kids into his dysfunction.   #run\n",
      "\n",
      "-------------------------------------------\n",
      "Time: 2019-12-22 00:10:01\n",
      "-------------------------------------------\n",
      "Label: 0, Tweet: @user @user thanks for #lyft credit i can't use cause they don't offer wheelchair vans in pdx.    #disapointed #getthanked\n",
      "\n",
      "-------------------------------------------\n",
      "Time: 2019-12-22 00:10:02\n",
      "-------------------------------------------\n",
      "Label: 0, Tweet:   bihday your majesty\n",
      "\n",
      "-------------------------------------------\n",
      "Time: 2019-12-22 00:10:03\n",
      "-------------------------------------------\n",
      "Label: 0, Tweet: #model   i love u take with u all the time in urð±!!! ðððð",
      "ð¦ð¦ð¦  \n",
      "\n",
      "-------------------------------------------\n",
      "Time: 2019-12-22 00:10:04\n",
      "-------------------------------------------\n",
      "Label: 0, Tweet:  factsguide: society now    #motivation\n",
      "\n",
      "-------------------------------------------\n",
      "Time: 2019-12-22 00:10:05\n",
      "-------------------------------------------\n",
      "\n"
     ]
    }
   ],
   "source": [
    "from time import sleep\n",
    "\n",
    "rddQueue = []\n",
    "\n",
    "for r in df.rdd.collect():\n",
    "    rddQueue += [sc.parallelize([r['label']+r['tweet']])]  # parallelize() to make rdd distributable\n",
    "    \n",
    "inputStream = ssc.queueStream(rddQueue)\n",
    "inputStream.map(lambda x: \"Label: \" + x[0] + \", Tweet: \" + x[1:]).pprint()\n",
    "\n",
    "ssc.start()\n",
    "sleep(4)  # the time decides when the program will stop, stop earlier, all the data may not be processed\n",
    "ssc.stop(stopSparkContext=True, stopGraceFully=True)"
   ]
  }
 ],
 "metadata": {
  "kernelspec": {
   "display_name": "conda3_env",
   "language": "python",
   "name": "testenv"
  },
  "language_info": {
   "codemirror_mode": {
    "name": "ipython",
    "version": 3
   },
   "file_extension": ".py",
   "mimetype": "text/x-python",
   "name": "python",
   "nbconvert_exporter": "python",
   "pygments_lexer": "ipython3",
   "version": "3.7.5"
  }
 },
 "nbformat": 4,
 "nbformat_minor": 2
}
