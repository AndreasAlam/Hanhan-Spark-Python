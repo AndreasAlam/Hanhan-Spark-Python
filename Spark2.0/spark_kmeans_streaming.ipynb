{
 "cells": [
  {
   "cell_type": "code",
   "execution_count": 1,
   "metadata": {},
   "outputs": [],
   "source": [
    "import sys\n",
    "from pyspark import SparkContext\n",
    "from pyspark.sql.functions import udf\n",
    "from pyspark.sql.types import *\n",
    "from pyspark.sql import Row\n",
    "import operator\n",
    "from pyspark.mllib.clustering import StreamingKMeans\n",
    "from pyspark.streaming import StreamingContext\n",
    "from pyspark.mllib.linalg import Vectors\n",
    "from pyspark.mllib.regression import LabeledPoint\n",
    "\n",
    "sc = SparkContext(\"local[2]\", \"keamns streaming\") # run locally with 2 cores\n",
    "ssc = StreamingContext(sc, 1)  # 1 second per batch"
   ]
  },
  {
   "cell_type": "code",
   "execution_count": 2,
   "metadata": {},
   "outputs": [],
   "source": [
    "# each row of features should be put into Vector\n",
    "trainingData = sc.textFile(\"kmeans_train.csv\")\\\n",
    "    .map(lambda line: Vectors.dense([float(x) for x in line.split(',')]))"
   ]
  },
  {
   "cell_type": "code",
   "execution_count": 3,
   "metadata": {},
   "outputs": [],
   "source": [
    "# first element is the label, others are the features in a vector\n",
    "# Each label & vector should be put in LabelPoint \n",
    "def sepLabelVector(line):\n",
    "    elems = [float(x) for x in line.split(',')]\n",
    "    label = elems[0]\n",
    "    vector = Vectors.dense(elems[1:])\n",
    "    \n",
    "    return LabeledPoint(label, vector)\n",
    "\n",
    "testingData = sc.textFile(\"kmeans_test.csv\")\\\n",
    "                .map(lambda l: sepLabelVector(l))"
   ]
  },
  {
   "cell_type": "code",
   "execution_count": 4,
   "metadata": {},
   "outputs": [],
   "source": [
    "trainingQueue = [trainingData]\n",
    "testingQueue = [testingData]\n",
    "\n",
    "trainingStream = ssc.queueStream(trainingQueue)\n",
    "testingStream = ssc.queueStream(testingQueue)"
   ]
  },
  {
   "cell_type": "code",
   "execution_count": 5,
   "metadata": {},
   "outputs": [],
   "source": [
    "trainingStream = ssc.queueStream(trainingQueue)\n",
    "testingStream = ssc.queueStream(testingQueue)\n",
    "\n",
    "# We create a model with random clusters and specify the number of clusters to find\n",
    "model = StreamingKMeans(k=2, decayFactor=1.0).setRandomCenters(3, 1.0, 410)\n",
    "\n",
    "# Now register the streams for training\n",
    "model.trainOn(trainingStream)"
   ]
  },
  {
   "cell_type": "code",
   "execution_count": 6,
   "metadata": {},
   "outputs": [],
   "source": [
    "# print out predicted clusters for each arrived new data\n",
    "result = model.predictOnValues(testingStream.map(lambda lp: (lp.label, lp.features)))\n",
    "result.pprint()"
   ]
  },
  {
   "cell_type": "code",
   "execution_count": 7,
   "metadata": {},
   "outputs": [
    {
     "name": "stdout",
     "output_type": "stream",
     "text": [
      "-------------------------------------------\n",
      "Time: 2018-01-27 19:07:39\n",
      "-------------------------------------------\n",
      "(1.0, 0)\n",
      "(2.0, 0)\n",
      "(1.0, 0)\n",
      "(2.0, 0)\n",
      "\n",
      "-------------------------------------------\n",
      "Time: 2018-01-27 19:07:40\n",
      "-------------------------------------------\n",
      "\n"
     ]
    }
   ],
   "source": [
    "ssc.start()  # start streaming\n",
    "ssc.stop(stopSparkContext=True, stopGraceFully=True)  # end streaming after it's finished"
   ]
  },
  {
   "cell_type": "code",
   "execution_count": 8,
   "metadata": {
    "collapsed": true
   },
   "outputs": [],
   "source": [
    "# create another Spark Context to predict on data without label\n",
    "\n",
    "sc = SparkContext(\"local[2]\", \"keamns streaming no label\") # run locally with 2 cores\n",
    "ssc = StreamingContext(sc, 1)  # 1 second per batch"
   ]
  },
  {
   "cell_type": "code",
   "execution_count": 9,
   "metadata": {
    "collapsed": true
   },
   "outputs": [],
   "source": [
    "# each row of features should be put into Vector\n",
    "trainingData = sc.textFile(\"kmeans_train.csv\")\\\n",
    "    .map(lambda line: Vectors.dense([float(x) for x in line.split(',')]))"
   ]
  },
  {
   "cell_type": "code",
   "execution_count": 10,
   "metadata": {
    "collapsed": true
   },
   "outputs": [],
   "source": [
    "# first element is the label, others are the features in a vector\n",
    "# Only get features\n",
    "def getVector(line):\n",
    "    elems = [float(x) for x in line.split(',')]\n",
    "    vector = Vectors.dense(elems[1:])\n",
    "    \n",
    "    return vector\n",
    "\n",
    "testingData = sc.textFile(\"kmeans_test.csv\")\\\n",
    "                .map(lambda l: getVector(l))"
   ]
  },
  {
   "cell_type": "code",
   "execution_count": 11,
   "metadata": {
    "collapsed": true
   },
   "outputs": [],
   "source": [
    "trainingQueue = [trainingData]\n",
    "testingQueue = [testingData]\n",
    "\n",
    "trainingStream = ssc.queueStream(trainingQueue)\n",
    "testingStream = ssc.queueStream(testingQueue)\n",
    "\n",
    "trainingStream = ssc.queueStream(trainingQueue)\n",
    "testingStream = ssc.queueStream(testingQueue)\n",
    "\n",
    "# We create a model with random clusters and specify the number of clusters to find\n",
    "model = StreamingKMeans(k=2, decayFactor=1.0).setRandomCenters(3, 1.0, 410)\n",
    "\n",
    "# Now register the streams for training\n",
    "model.trainOn(trainingStream)"
   ]
  },
  {
   "cell_type": "code",
   "execution_count": 12,
   "metadata": {
    "collapsed": true
   },
   "outputs": [],
   "source": [
    "# print out predicted clusters for each arrived new data\n",
    "result = model.predictOn(testingStream)\n",
    "result.pprint()"
   ]
  },
  {
   "cell_type": "code",
   "execution_count": 13,
   "metadata": {},
   "outputs": [
    {
     "name": "stdout",
     "output_type": "stream",
     "text": [
      "-------------------------------------------\n",
      "Time: 2018-01-27 19:14:47\n",
      "-------------------------------------------\n",
      "0\n",
      "0\n",
      "0\n",
      "0\n",
      "\n",
      "-------------------------------------------\n",
      "Time: 2018-01-27 19:14:48\n",
      "-------------------------------------------\n",
      "\n"
     ]
    }
   ],
   "source": [
    "ssc.start()  # start streaming\n",
    "ssc.stop(stopSparkContext=True, stopGraceFully=True)  # end streaming after it's finished"
   ]
  }
 ],
 "metadata": {
  "kernelspec": {
   "display_name": "Python 2",
   "language": "python",
   "name": "python2"
  },
  "language_info": {
   "codemirror_mode": {
    "name": "ipython",
    "version": 2
   },
   "file_extension": ".py",
   "mimetype": "text/x-python",
   "name": "python",
   "nbconvert_exporter": "python",
   "pygments_lexer": "ipython2",
   "version": "2.7.13"
  }
 },
 "nbformat": 4,
 "nbformat_minor": 2
}
